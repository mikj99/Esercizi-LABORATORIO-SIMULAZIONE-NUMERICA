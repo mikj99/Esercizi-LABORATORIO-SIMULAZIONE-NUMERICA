{
 "cells": [
  {
   "cell_type": "markdown",
   "metadata": {},
   "source": [
    " # Simulazione di particella quantistica:"
   ]
  },
  {
   "cell_type": "markdown",
   "metadata": {},
   "source": [
    "Utilizzando l'algoritmo di Metropolis dove l'accettazione è rappresentata dal quadrato della funzione d'onda $( \\ |\\Psi_T(x)|^2 \\ )$ e la transizione proposta è di tipo uniforme in un box di simulazione sottoposto a PBC che permetta il verificarsi della regola empirica del 50%, simulare una particella quantistica in uno spazio mono-dimensionale.\n",
    "\n",
    "In tale spazio vige un potenziale esterno $V(x) = x^4 - \\frac{5}{2}x^2$, e si consideri una funzione d'onda parametrica (di parametri $\\mu$ e $\\sigma$) di test descritta da:\n",
    "\n",
    "$$\\Psi_T^{\\sigma,\\mu}(x) \\propto e^{-\\frac{(x-\\mu)^2}{2\\sigma^2}}+e^{-\\frac{(x+\\mu)^2}{2\\sigma^2}}$$\n",
    "\n",
    "attraverso la quale si desidera, ottimizzando i parametri liberi, descrivere numericamente, nella maniera più efficacie possibile, il comportamento della particella considerata.\n",
    "\n",
    "Utilizzando, quindi, il data blocking stimare il valore di aspettazione dell'operatore Hamiltoniano:\n",
    "\n",
    "$$\\langle {\\hat H} \\rangle_T = \\frac{\\int dx \\Psi^*_T(x) {\\hat H} \\Psi_T(x)}{\\int dx |\\Psi_T(x)|^2} = \\int dx \\frac{|\\Psi_T(x)|^2}{\\int dx |\\Psi_T(x)|^2} \\frac{{\\hat H} \\Psi_T(x)}{\\Psi_T(x)}$$\n",
    "\n",
    "dove si rammenta che la parte cinetica di tale operatore è $\\hat T = -\\frac{\\hbar^2}{2m}\\frac{\\partial^2}{\\partial x^2}$.\n"
   ]
  },
  {
   "cell_type": "markdown",
   "metadata": {},
   "source": [
    "#### - Esecuzione"
   ]
  },
  {
   "cell_type": "markdown",
   "metadata": {},
   "source": [
    "Si definiscono arbitrariamente i parametri per il data blocking:\n",
    "- N= 100 blocchi;\n",
    "- L= $10^4$ simulazioni per blocco;\n",
    "- M= $10^6$ simulazioni totali;\n",
    "\n",
    "quindi si definiscono le funzioni utili per tale algoritmo."
   ]
  },
  {
   "cell_type": "code",
   "execution_count": 1,
   "metadata": {},
   "outputs": [],
   "source": [
    "\n",
    "import math\n",
    "\n",
    "\n",
    "def Media (X, i, z) :              #attenzione: z è la posizione nell'array\n",
    "    return sum( X[i:z+1] )/(z-i+1)\n",
    "\n",
    "def Err (X, i, z):                #attenzione z è la posizione nell'array, vale N=(z+1) ovvero (N-1)=z\n",
    "    if z==i :\n",
    "        return 0\n",
    "    return math.sqrt( (Media(X**2,i,z) - Media(X,i,z)**2) / z )\n"
   ]
  },
  {
   "cell_type": "markdown",
   "metadata": {},
   "source": [
    "Si importano da file N=100 blocchi simulati dal codice C++.\\\n",
    "In tale simulazione si sono fissati arbitrariamente i parametri $\\mu= 0.82$ e $\\sigma=0.64$, che manualmente si sono visti ben approssimare la funzione d'onda $\\Psi_0(x)$ dello stato fondamentale avente Energia pari a $E_0=-0.46046$."
   ]
  },
  {
   "cell_type": "code",
   "execution_count": 2,
   "metadata": {},
   "outputs": [],
   "source": [
    "\n",
    "import numpy\n",
    "\n",
    "\n",
    "H= numpy.loadtxt( \"8.1/out.txt\", usecols= (0), delimiter= \"\\t\", unpack= 'true' )\n"
   ]
  },
  {
   "cell_type": "markdown",
   "metadata": {},
   "source": [
    "Si produce quindi un grafico dell'andamento nei blocchi del valor medio e dell'incertezza stimata dell'Energia della particella."
   ]
  },
  {
   "cell_type": "code",
   "execution_count": 3,
   "metadata": {},
   "outputs": [
    {
     "data": {
      "image/png": "[encoded data removed]",
      "text/plain": [
       "<Figure size 864x288 with 1 Axes>"
      ]
     },
     "metadata": {
      "needs_background": "light"
     },
     "output_type": "display_data"
    }
   ],
   "source": [
    "\n",
    "import matplotlib.pyplot as plt\n",
    "\n",
    "\n",
    "AvH= numpy.zeros( numpy.size(H) )\n",
    "dev_AvH= numpy.zeros( numpy.size(H) )\n",
    "\n",
    "for i in range( numpy.size(H) ):\n",
    "    AvH[i]= Media (H,0,i)\n",
    "    dev_AvH[i]= Err (H,0,i)\n",
    "    \n",
    "N = numpy.arange ( numpy.size(AvH) )   \n",
    "\n",
    "plt.figure(figsize=(12, 4))\n",
    "plt.plot(-0.46046+numpy.zeros(100), label= r\"$E_0$\")\n",
    "plt.errorbar( N, AvH, yerr= dev_AvH, capsize= 4, marker= 's', mfc= 'red', mec= 'red', ms= 3, \n",
    "              linestyle= \"none\")\n",
    "plt.xlabel('# gruppi')\n",
    "plt.ylabel(r'$E/N$')\n",
    "plt.grid(True)\n",
    "plt.legend(bbox_to_anchor=(0.95, 0.2), loc='upper left', borderaxespad=0.)\n",
    "\n",
    "plt.show()\n"
   ]
  },
  {
   "cell_type": "markdown",
   "metadata": {},
   "source": [
    "Come si può osservare il valore converge nel numero di blocchi, con un errore in riduzione nel numero di blocchi considerati.\\\n",
    "Tuttavia sebbene si sia cercato manualmente di ottimizzare i parametri della funzione di test, essi rappresentano una discreta raffigurazione dello di $\\Psi_0(x)$, che può essere migliorata tramite una ricerca automatizzata, ma che difficilmente potrà, nel discreto, rappresentare l'effettivo stato desiderato e la sua tipica energia. "
   ]
  },
  {
   "cell_type": "markdown",
   "metadata": {},
   "source": [
    "### -----------------------------------------------------------------------------------------------------------------------------------------------------------"
   ]
  },
  {
   "cell_type": "markdown",
   "metadata": {},
   "source": [
    " # Simulazione di una particella quantistica (parte seconda):"
   ]
  },
  {
   "cell_type": "markdown",
   "metadata": {},
   "source": [
    "Sfruttando il codice precedentemente prodotto, applicarvi un metodo variazionale alla ricerca dei parametri $\\tilde \\mu$ e $\\tilde \\sigma$ che meglio approssimano lo stato fondamentale $\\Psi_0$, secondo la minimizzazione dell'energia in tale stato:\n",
    "\n",
    "$$\n",
    "\\langle {\\hat H} \\rangle_T = \\frac{\\langle \\Psi_T^{\\sigma,\\mu}| {\\hat H} | \\Psi_T^{\\sigma,\\mu} \\rangle}\n",
    "{\\langle \\Psi_T^{\\sigma,\\mu} | \\Psi_T^{\\sigma,\\mu} \\rangle} \\ge E_0 =\n",
    "\\frac{\\langle \\Psi_0| {\\hat H} | \\Psi_0 \\rangle}\n",
    "{\\langle \\Psi_0 | \\Psi_0 \\rangle}\n",
    "$$\n",
    "\n",
    "Eseguire quindi una simulazione che permetta tramite data blocking di stimare valor medio ed incertezza dell'energia nella configurazione descritta dalla funzione d'onda $\\Psi_T^{\\tilde \\sigma,\\tilde \\mu}(x)$; infine, produrre un istogramma di $|\\Psi_T^{\\tilde \\sigma,\\tilde \\mu}(x)|^2$, che rappresenta tra le altre cose la probabilità di transizione del Metropolis utilizzato, e confrontarla con quella del vero stato fondamentale (fornita nel materiale di supporto).\n"
   ]
  },
  {
   "cell_type": "markdown",
   "metadata": {},
   "source": [
    "Si definiscono arbitrariamente i parametri per il data blocking:\n",
    "- N= 100 blocchi;\n",
    "- L= $10^4$ simulazioni per blocco;\n",
    "- M= $10^6$ simulazioni totali;\n",
    "\n",
    "quindi si utilizzano nuovamente le funzioni precedentemente descritte per questo algoritmo statistico."
   ]
  },
  {
   "cell_type": "markdown",
   "metadata": {},
   "source": [
    "#### - Applicazione del metodo variazionale:\n",
    "Al fine di stimare il minimo di energia, si è implementato il seguente metodo:\n",
    "- si è scelto un range per ogni parametro libero entro cui cercare il il valore migliore di tale parametro, in un intorno dei valori utlizzati nell'esercizio precedente (ricavati manualmente); in particolare $\\tilde \\mu$ = [0.77,0.87] e $\\tilde \\sigma$ = [0.57,0.67].\n",
    "- si sono scelte arbitrariamente $10^4$ coppie $(\\tilde \\mu$,$\\tilde \\sigma)$ su cui eseguire una simulazione di $5$x$10^4$ step al fine di calcolare efficacemente il valor medio di energia di tale stato.\n",
    "- al termine, ottenuta quindi la coppia di parametri che hanno minimizzato l'energia, si è eseguita un'effettiva simulazione di N blocchi di L elementi al fine di meglio valutare l'energia e di stimarne l'errore.\n",
    "\n",
    "Si noti che avendo eseguito la ricerca su un numero di step Monte Carlo inferiori a quelli utilizzati per il data blocking finale, è possibile che la successiva stima più accuarata del valor medio dell'energia si discosti da quello utilizzato per valutare le coppie $(\\tilde \\mu$,$\\tilde \\sigma)$. Ciò per motivi computazionali è inevitabile qualora si voglia eseguire in tempi ragionevoli un numero elevato di tentativi sulle coppie $(\\tilde \\mu$,$\\tilde \\sigma)$; tuttavia utilizzare altresì un numero limitato di M simulazioni per l'algoritmo di media a blocchi avrebbe poco significato in termini di convergenza per il CLT.\\\n",
    "Tenendo presente ciò si è cercato di eseguire una simulazione coerente con l'obiettivo, ma che non necessitasse di tempi di attuazione eccessivi.\n",
    "\n",
    "Di seguiro sono riportati i valori dei parametri stimati."
   ]
  },
  {
   "cell_type": "code",
   "execution_count": 4,
   "metadata": {},
   "outputs": [
    {
     "name": "stdout",
     "output_type": "stream",
     "text": [
      "Migliori parametri stimati:\n",
      " - mu    = 0.80104\n",
      " - sigma = 0.616577\n",
      " - E0    = -0.454524\n"
     ]
    }
   ],
   "source": [
    "\n",
    "mu, sigma, E= numpy.loadtxt ( \"8.2/parametri.txt\", usecols= (0,1,2), delimiter= \"\\t\", unpack= 'true' )\n",
    "\n",
    "\n",
    "print (\"Migliori parametri stimati:\")\n",
    "print (\" - mu    =\", mu)\n",
    "print (\" - sigma =\", sigma)\n",
    "print (\" - E0    =\", E)\n"
   ]
  },
  {
   "cell_type": "markdown",
   "metadata": {},
   "source": [
    "Di seguito si riporta secondo il numero di blocchi, l'andamento del valor medio dell'energia e relativo errore stimato mediante data blocking."
   ]
  },
  {
   "cell_type": "code",
   "execution_count": 5,
   "metadata": {},
   "outputs": [],
   "source": [
    "\n",
    "H= numpy.loadtxt( \"8.2/out.txt\", usecols= (0), delimiter= \"\\t\", unpack= 'true' )\n"
   ]
  },
  {
   "cell_type": "code",
   "execution_count": 6,
   "metadata": {},
   "outputs": [
    {
     "data": {
      "image/png": "[encoded data removed]",
      "text/plain": [
       "<Figure size 864x288 with 1 Axes>"
      ]
     },
     "metadata": {
      "needs_background": "light"
     },
     "output_type": "display_data"
    }
   ],
   "source": [
    "\n",
    "AvH= numpy.zeros( numpy.size(H) )\n",
    "dev_AvH= numpy.zeros( numpy.size(H) )\n",
    "\n",
    "for i in range( numpy.size(H) ):\n",
    "    AvH[i]= Media (H,0,i)\n",
    "    dev_AvH[i]= Err (H,0,i)\n",
    "    \n",
    "N = numpy.arange ( numpy.size(AvH) )   \n",
    "\n",
    "plt.figure(figsize=(12, 4))\n",
    "plt.plot (-0.46046+numpy.zeros(100), label= r\"$E_0$ teorico\")\n",
    "plt.plot (E+numpy.zeros(100), label= r\"$E_0$ stimato\", color= \"orange\" )\n",
    "plt.errorbar( N, AvH, yerr= dev_AvH, capsize= 4, marker= 's', mfc= 'red', mec= 'red', ms= 3, \n",
    "              color= \"orangered\", linestyle= \"none\")\n",
    "plt.xlabel('# gruppi')\n",
    "plt.ylabel(r'$E$')\n",
    "plt.grid(True)\n",
    "plt.legend(bbox_to_anchor=(0.95, 0.7), loc='upper left', borderaxespad=0.)\n",
    "\n",
    "plt.show()\n"
   ]
  },
  {
   "cell_type": "markdown",
   "metadata": {},
   "source": [
    "Come si può notare la simulazione breve alla ricerca della coppia $(\\tilde \\mu$,$\\tilde \\sigma)$ che minimizzassero l'energia, descrivendo quindi la funzione d'onda di stato fondamentale approssimata, è compatibile l'andamento nei blocchi di quanto stimato dal data blocking per i primi passi comuni, quindi lo stabilizzarsi nel tempo del valor medio dell'energia, converge ad un valore incompatibile.\n",
    "\n",
    "Altresì è plausibile pensare che il range di ricerca dei parametri non sia ottimale, sebbene manualente in un intorno di dove si è ricercato si sono trovati parametri che corrispondessero a valori di energia simili ad E$_0$ (minimo locale).\n",
    "\n",
    "Infine, sarebbe stato altresì corretto utilizzare tecniche diverse per la scelta arbitraria dei parametri $(\\tilde \\mu$,$\\tilde \\sigma)$ di test:\n",
    "- una griglia discreta 2D di valori centrata su un punto di partenza consono (quale ad esempio una ricerca manuale precedente);\n",
    "- una distribuzione gaussiana dei due parametri, ognuna delle due centrata su un punto consono, e di ampiezza variabile secondo le esigenze;"
   ]
  },
  {
   "cell_type": "markdown",
   "metadata": {},
   "source": [
    "#### - grafico della funzione d'onda  $|\\Psi_T^{\\tilde \\sigma,\\tilde \\mu}(x)|^2$:"
   ]
  },
  {
   "cell_type": "markdown",
   "metadata": {},
   "source": [
    "Di seguito si riporta il profilo del quadrato della funzione d'onda stimata meglio approssimare lo stato fondamentale $\\Psi_0$, tramite un istogramma tratto dall'evoluzione dell'algoritmo di Metropolis."
   ]
  },
  {
   "cell_type": "code",
   "execution_count": 7,
   "metadata": {},
   "outputs": [],
   "source": [
    "\n",
    "Psi= numpy.loadtxt( \"8.2/funzioned'onda.txt\", usecols= (0), delimiter= \"\\t\", unpack= 'true' )\n"
   ]
  },
  {
   "cell_type": "code",
   "execution_count": 8,
   "metadata": {},
   "outputs": [
    {
     "data": {
      "image/png": "[encoded data removed]",
      "text/plain": [
       "<Figure size 720x360 with 1 Axes>"
      ]
     },
     "metadata": {
      "needs_background": "light"
     },
     "output_type": "display_data"
    }
   ],
   "source": [
    "\n",
    "nbin= 200\n",
    "max= numpy.amax(Psi)\n",
    "min= numpy.amin(Psi)\n",
    "\n",
    "plt.figure(figsize=(10, 5))\n",
    "plt.hist(Psi, nbin)\n",
    "plt.xlabel('x')\n",
    "plt.ylabel(r'$|\\Psi_T^{\\tilde \\sigma,\\tilde \\mu}(x)|^2$')\n",
    "plt.grid(True)\n",
    "\n",
    "plt.show()\n"
   ]
  },
  {
   "cell_type": "markdown",
   "metadata": {},
   "source": [
    "Di seguito si compara, invece, quanto ottenuto in precedenza, opportunamente normalizzato, con quanto fornito nel materiale di supporto ove si risolvono analiticamente (con qualche approssimazione) calcoli quantistici alla ricerca della effettiva funzione d'onda di stato fondamentale $\\Psi_0$."
   ]
  },
  {
   "cell_type": "code",
   "execution_count": 9,
   "metadata": {},
   "outputs": [
    {
     "data": {
      "image/png": "[encoded data removed]",
      "text/plain": [
       "<Figure size 720x360 with 1 Axes>"
      ]
     },
     "metadata": {
      "needs_background": "light"
     },
     "output_type": "display_data"
    }
   ],
   "source": [
    "\n",
    "def Vpot(x):\n",
    "    return (x**2 - 2.5)*x**2\n",
    "\n",
    "\n",
    "hbar = 1\n",
    "m = 1\n",
    "max= numpy.amax(Psi)       #estermi dell'intervallo desiderato\n",
    "min= numpy.amin(Psi)\n",
    "N = 1000                   #numero di interazioni\n",
    "\n",
    "#approssimazione della derivata\n",
    "x = numpy.linspace(min, max, N)\n",
    "dx = x[1] - x[0]\n",
    "V = Vpot(x)\n",
    "\n",
    "CDiff = numpy.diag(numpy.ones(N-1),-1)-2*numpy.diag(numpy.ones(N),0)+numpy.diag(numpy.ones(N-1),1)\n",
    "\n",
    "# matrice Hamiltoniana + autovalori e autovettori\n",
    "H = (-(hbar**2)*CDiff)/(2*m*dx**2) + numpy.diag(V)\n",
    "E,psi = numpy.linalg.eigh(H)\n",
    "\n",
    "# normalizzazione\n",
    "psi = numpy.transpose(psi)\n",
    "psi = psi/numpy.sqrt(dx)\n",
    "weights= numpy.ones_like(Psi)/float(numpy.size(Psi))\n",
    "\n",
    "plt.figure(figsize=(10,5))\n",
    "plt.plot(x,(psi[0])**2, label= r'$|\\Psi_0|^2$')\n",
    "plt.hist(Psi, nbin, density= \"true\", label= r'$|\\Psi_T^{\\tilde \\sigma,\\tilde \\mu}(x)|^2$' )\n",
    "plt.xlabel(\"x\")\n",
    "plt.grid(True)\n",
    "plt.legend(bbox_to_anchor=(0.95, 0.7), loc='upper left', borderaxespad=0.)\n",
    "\n",
    "plt.show()\n"
   ]
  },
  {
   "cell_type": "markdown",
   "metadata": {},
   "source": [
    "Come si può osservare vi è una buona compatibilità sulle code della distribuzione graficata, mentre intorno al minimo e ai massimi locali vi è una notevole discrepanza, frutto delle limitazioni descritte in precedenza.\\\n",
    "Tuttavia la forma generale ricorda discretamente $|\\Psi_0|^2$."
   ]
  }
 ],
 "metadata": {
  "kernelspec": {
   "display_name": "Python 3",
   "language": "python",
   "name": "python3"
  },
  "language_info": {
   "codemirror_mode": {
    "name": "ipython",
    "version": 3
   },
   "file_extension": ".py",
   "mimetype": "text/x-python",
   "name": "python",
   "nbconvert_exporter": "python",
   "pygments_lexer": "ipython3",
   "version": "3.8.5"
  }
 },
 "nbformat": 4,
 "nbformat_minor": 4
}
